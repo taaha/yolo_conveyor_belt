{
 "cells": [
  {
   "cell_type": "code",
   "execution_count": 1,
   "metadata": {},
   "outputs": [
    {
     "name": "stdout",
     "output_type": "stream",
     "text": [
      "/home/darth/MLAI-projects/yolo_conveyor/yolo_conveyor_belt\n"
     ]
    }
   ],
   "source": [
    "import os\n",
    "HOME = os.getcwd()\n",
    "print(HOME)"
   ]
  },
  {
   "cell_type": "code",
   "execution_count": 3,
   "metadata": {},
   "outputs": [],
   "source": [
    "# !mkdir {HOME}/images\n",
    "# !mkdir {HOME}/videos"
   ]
  },
  {
   "cell_type": "code",
   "execution_count": 4,
   "metadata": {},
   "outputs": [],
   "source": [
    "# !pip install moviepy"
   ]
  },
  {
   "cell_type": "markdown",
   "metadata": {},
   "source": [
    "### Splitting video into test and train"
   ]
  },
  {
   "cell_type": "code",
   "execution_count": 5,
   "metadata": {},
   "outputs": [
    {
     "name": "stdout",
     "output_type": "stream",
     "text": [
      "Moviepy - Running:\n",
      ">>> \"+ \" \".join(cmd)\n",
      "Moviepy - Command successful\n",
      "Moviepy - Running:\n",
      ">>> \"+ \" \".join(cmd)\n",
      "Moviepy - Command successful\n"
     ]
    }
   ],
   "source": [
    "from moviepy.video.io.ffmpeg_tools import ffmpeg_extract_subclip\n",
    "\n",
    "# Define the path to your input video\n",
    "input_video_path = \"raw_video/conveyor_chocolate.mp4\"\n",
    "\n",
    "# Define the start and end times for the first split (in seconds)\n",
    "split1_start_time = 0\n",
    "split1_end_time = 14\n",
    "\n",
    "# Define the start and end times for the second split (in seconds)\n",
    "split2_start_time = 14\n",
    "split2_end_time = 18\n",
    "\n",
    "# Define the paths for the output videos\n",
    "output_video1_path = \"videos/video1.mp4\"\n",
    "output_video2_path = \"videos/video2.mp4\"\n",
    "\n",
    "# Split the first part of the video\n",
    "ffmpeg_extract_subclip(input_video_path, split1_start_time, split1_end_time, targetname=output_video1_path)\n",
    "\n",
    "# Split the second part of the video\n",
    "ffmpeg_extract_subclip(input_video_path, split2_start_time, split2_end_time, targetname=output_video2_path)\n"
   ]
  },
  {
   "cell_type": "code",
   "execution_count": 6,
   "metadata": {},
   "outputs": [],
   "source": [
    "VIDEO_DIR_PATH = f\"{HOME}/videos\"\n",
    "IMAGE_DIR_PATH = f\"{HOME}/images\"\n",
    "FRAME_STRIDE = 2"
   ]
  },
  {
   "cell_type": "markdown",
   "metadata": {},
   "source": [
    "### Creating images from video"
   ]
  },
  {
   "cell_type": "code",
   "execution_count": 7,
   "metadata": {},
   "outputs": [
    {
     "data": {
      "application/vnd.jupyter.widget-view+json": {
       "model_id": "2a6ea14af94443d68ad96958fb0bdf58",
       "version_major": 2,
       "version_minor": 0
      },
      "text/plain": [
       "  0%|          | 0/1 [00:00<?, ?it/s]"
      ]
     },
     "metadata": {},
     "output_type": "display_data"
    }
   ],
   "source": [
    "import supervision as sv\n",
    "from tqdm.notebook import tqdm\n",
    "\n",
    "video_paths = sv.list_files_with_extensions(\n",
    "    directory=VIDEO_DIR_PATH, \n",
    "    extensions=[\"mov\", \"mp4\"])\n",
    "\n",
    "TEST_VIDEO_PATHS, TRAIN_VIDEO_PATHS = video_paths[:1], video_paths[1:]\n",
    "\n",
    "for video_path in tqdm(TRAIN_VIDEO_PATHS):\n",
    "    video_name = video_path.stem\n",
    "    image_name_pattern = video_name + \"-{:05d}.png\"\n",
    "    with sv.ImageSink(target_dir_path=IMAGE_DIR_PATH, image_name_pattern=image_name_pattern) as sink:\n",
    "        for image in sv.get_video_frames_generator(source_path=str(video_path), stride=FRAME_STRIDE):\n",
    "            sink.save_image(image=image)"
   ]
  },
  {
   "cell_type": "markdown",
   "metadata": {},
   "source": [
    "### Augmentation"
   ]
  },
  {
   "cell_type": "code",
   "execution_count": 6,
   "metadata": {},
   "outputs": [],
   "source": [
    "# !pip install Augmentor"
   ]
  },
  {
   "cell_type": "code",
   "execution_count": 14,
   "metadata": {},
   "outputs": [
    {
     "name": "stdout",
     "output_type": "stream",
     "text": [
      "Initialised with 15 image(s) found.\n",
      "Output directory set to images/."
     ]
    },
    {
     "name": "stderr",
     "output_type": "stream",
     "text": [
      "Processing <PIL.Image.Image image mode=RGB size=1280x720 at 0x7F84DE15EFE0>: 100%|██████████| 15/15 [00:00<00:00, 15.79 Samples/s]\n"
     ]
    }
   ],
   "source": [
    "import Augmentor\n",
    "import os\n",
    "\n",
    "# Define the path to the directory containing the images\n",
    "input_directory = \"images/\"\n",
    "\n",
    "# Define the path for the augmented output directory\n",
    "output_directory = \"images/\"\n",
    "\n",
    "# Create an Augmentor pipeline with the input and output directories\n",
    "p = Augmentor.Pipeline(input_directory, '')\n",
    "\n",
    "# Add the desired augmentation operations to the pipeline\n",
    "# p.rotate(probability=0.5, max_left_rotation=10, max_right_rotation=10)\n",
    "p.flip_left_right(probability=0.8)\n",
    "p.zoom_random(probability=0.8, percentage_area=0.8)\n",
    "\n",
    "# Specify the number of augmented images to generate\n",
    "num_augmented_images = 15\n",
    "\n",
    "# Augment the images\n",
    "p.sample(num_augmented_images)\n",
    "\n",
    "# Rename the augmented images to remove the \"_augmented\" suffix\n",
    "for filename in os.listdir(output_directory):\n",
    "    if filename.endswith(\"_augmented.png\"):  # Adjust the file extension if necessary\n",
    "        new_filename = filename.replace(\"_augmented\", \"\")\n",
    "        os.rename(os.path.join(output_directory, filename),\n",
    "                  os.path.join(output_directory, new_filename))\n"
   ]
  },
  {
   "cell_type": "markdown",
   "metadata": {},
   "source": [
    "### Resizing image to prevent cuda out of memory"
   ]
  },
  {
   "cell_type": "code",
   "execution_count": 9,
   "metadata": {},
   "outputs": [
    {
     "name": "stdout",
     "output_type": "stream",
     "text": [
      "Resized and saved: /home/darth/MLAI-projects/yolo_conveyor/yolo_conveyor_belt/images_resized/images_original_video2-00012.png_b5078a94-845b-49b6-8c02-d9cd60b288a2.png\n",
      "Resized and saved: /home/darth/MLAI-projects/yolo_conveyor/yolo_conveyor_belt/images_resized/video2-00005.png\n",
      "Resized and saved: /home/darth/MLAI-projects/yolo_conveyor/yolo_conveyor_belt/images_resized/video2-00013.png\n",
      "Resized and saved: /home/darth/MLAI-projects/yolo_conveyor/yolo_conveyor_belt/images_resized/video2-00011.png\n",
      "Resized and saved: /home/darth/MLAI-projects/yolo_conveyor/yolo_conveyor_belt/images_resized/images_original_video2-00014.png_e5bc144a-377f-47aa-804f-3686e366db2a.png\n",
      "Resized and saved: /home/darth/MLAI-projects/yolo_conveyor/yolo_conveyor_belt/images_resized/images_original_video2-00004.png_b3fa8fb8-cf21-4da3-9742-071eaf8f2abb.png\n",
      "Resized and saved: /home/darth/MLAI-projects/yolo_conveyor/yolo_conveyor_belt/images_resized/images_original_video2-00011.png_4a30881b-a06a-4fae-8036-1b1864b94882.png\n",
      "Resized and saved: /home/darth/MLAI-projects/yolo_conveyor/yolo_conveyor_belt/images_resized/video2-00004.png\n",
      "Resized and saved: /home/darth/MLAI-projects/yolo_conveyor/yolo_conveyor_belt/images_resized/video2-00010.png\n",
      "Resized and saved: /home/darth/MLAI-projects/yolo_conveyor/yolo_conveyor_belt/images_resized/images_original_video2-00014.png_917e0099-7fb1-45ba-ae90-aa5130a94a36.png\n",
      "Resized and saved: /home/darth/MLAI-projects/yolo_conveyor/yolo_conveyor_belt/images_resized/images_original_video2-00010.png_4e36f237-7562-46e9-9b6d-d56c15ef09a0.png\n",
      "Resized and saved: /home/darth/MLAI-projects/yolo_conveyor/yolo_conveyor_belt/images_resized/video2-00001.png\n",
      "Resized and saved: /home/darth/MLAI-projects/yolo_conveyor/yolo_conveyor_belt/images_resized/video2-00000.png\n",
      "Resized and saved: /home/darth/MLAI-projects/yolo_conveyor/yolo_conveyor_belt/images_resized/video2-00012.png\n",
      "Resized and saved: /home/darth/MLAI-projects/yolo_conveyor/yolo_conveyor_belt/images_resized/video2-00008.png\n",
      "Resized and saved: /home/darth/MLAI-projects/yolo_conveyor/yolo_conveyor_belt/images_resized/video2-00014.png\n",
      "Resized and saved: /home/darth/MLAI-projects/yolo_conveyor/yolo_conveyor_belt/images_resized/images_original_video2-00006.png_7b235504-bb94-4b46-a014-b7d4ddf274a3.png\n",
      "Resized and saved: /home/darth/MLAI-projects/yolo_conveyor/yolo_conveyor_belt/images_resized/video2-00002.png\n",
      "Resized and saved: /home/darth/MLAI-projects/yolo_conveyor/yolo_conveyor_belt/images_resized/video2-00007.png\n",
      "Resized and saved: /home/darth/MLAI-projects/yolo_conveyor/yolo_conveyor_belt/images_resized/images_original_video2-00006.png_af8fbcca-720c-46a0-811c-bde0b297e1fe.png\n",
      "Resized and saved: /home/darth/MLAI-projects/yolo_conveyor/yolo_conveyor_belt/images_resized/video2-00009.png\n",
      "Resized and saved: /home/darth/MLAI-projects/yolo_conveyor/yolo_conveyor_belt/images_resized/images_original_video2-00008.png_4d4ce3de-1a0d-45ac-b923-47529b3c5123.png\n",
      "Resized and saved: /home/darth/MLAI-projects/yolo_conveyor/yolo_conveyor_belt/images_resized/images_original_video2-00001.png_8afd6c15-2180-40b2-9b4c-eaeffde61feb.png\n",
      "Resized and saved: /home/darth/MLAI-projects/yolo_conveyor/yolo_conveyor_belt/images_resized/images_original_video2-00000.png_b7e6f5d8-52b1-4642-8458-b18d65fb0659.png\n",
      "Resized and saved: /home/darth/MLAI-projects/yolo_conveyor/yolo_conveyor_belt/images_resized/images_original_video2-00004.png_292bb0fd-53b7-458d-a860-37a56c723420.png\n",
      "Resized and saved: /home/darth/MLAI-projects/yolo_conveyor/yolo_conveyor_belt/images_resized/images_original_video2-00004.png_6740e14f-b58d-450a-90de-e66d139e9b0b.png\n",
      "Resized and saved: /home/darth/MLAI-projects/yolo_conveyor/yolo_conveyor_belt/images_resized/images_original_video2-00001.png_68e8d1c0-51a4-472a-b016-3cb236eb6161.png\n",
      "Resized and saved: /home/darth/MLAI-projects/yolo_conveyor/yolo_conveyor_belt/images_resized/video2-00003.png\n",
      "Resized and saved: /home/darth/MLAI-projects/yolo_conveyor/yolo_conveyor_belt/images_resized/video2-00006.png\n",
      "Resized and saved: /home/darth/MLAI-projects/yolo_conveyor/yolo_conveyor_belt/images_resized/images_original_video2-00001.png_cc7a2e7e-5148-4d1e-8b52-2818498f31a2.png\n"
     ]
    }
   ],
   "source": [
    "from PIL import Image\n",
    "import os\n",
    "\n",
    "def resize_images(source_dir, target_dir, new_size):\n",
    "    # Create the target directory if it doesn't exist\n",
    "    if not os.path.exists(target_dir):\n",
    "        os.makedirs(target_dir)\n",
    "\n",
    "    # Get the list of files in the source directory\n",
    "    files = os.listdir(source_dir)\n",
    "\n",
    "    for file_name in files:\n",
    "        # Construct the full path to the source file\n",
    "        source_file = os.path.join(source_dir, file_name)\n",
    "\n",
    "        # Load the image\n",
    "        image = Image.open(source_file)\n",
    "\n",
    "        # Resize the image\n",
    "        resized_image = image.resize(new_size)\n",
    "\n",
    "        # Construct the full path to the target file\n",
    "        target_file = os.path.join(target_dir, file_name)\n",
    "\n",
    "        # Save the resized image to the target directory\n",
    "        resized_image.save(target_file)\n",
    "\n",
    "        print(f\"Resized and saved: {target_file}\")\n",
    "\n",
    "# Example usage\n",
    "source_directory = f\"{HOME}/images\"\n",
    "target_directory = f\"{HOME}/images_resized\"\n",
    "new_size = (800, 600)\n",
    "\n",
    "resize_images(source_directory, target_directory, new_size)\n"
   ]
  },
  {
   "cell_type": "markdown",
   "metadata": {},
   "source": [
    "### Helper function to shortening Image names"
   ]
  },
  {
   "cell_type": "code",
   "execution_count": 11,
   "metadata": {},
   "outputs": [
    {
     "name": "stdout",
     "output_type": "stream",
     "text": [
      "Renamed: /home/darth/MLAI-projects/yolo_conveyor/yolo_conveyor_belt/images/images_original_video2-00012.png_b5078a94-845b-49b6-8c02-d9cd60b288a2.png -> /home/darth/MLAI-projects/yolo_conveyor/yolo_conveyor_belt/images/b288a2.png\n",
      "Renamed: /home/darth/MLAI-projects/yolo_conveyor/yolo_conveyor_belt/images/video2-00005.png -> /home/darth/MLAI-projects/yolo_conveyor/yolo_conveyor_belt/images/-00005.png\n",
      "Renamed: /home/darth/MLAI-projects/yolo_conveyor/yolo_conveyor_belt/images/video2-00013.png -> /home/darth/MLAI-projects/yolo_conveyor/yolo_conveyor_belt/images/-00013.png\n",
      "Renamed: /home/darth/MLAI-projects/yolo_conveyor/yolo_conveyor_belt/images/video2-00011.png -> /home/darth/MLAI-projects/yolo_conveyor/yolo_conveyor_belt/images/-00011.png\n",
      "Renamed: /home/darth/MLAI-projects/yolo_conveyor/yolo_conveyor_belt/images/images_original_video2-00014.png_e5bc144a-377f-47aa-804f-3686e366db2a.png -> /home/darth/MLAI-projects/yolo_conveyor/yolo_conveyor_belt/images/66db2a.png\n",
      "Renamed: /home/darth/MLAI-projects/yolo_conveyor/yolo_conveyor_belt/images/images_original_video2-00004.png_b3fa8fb8-cf21-4da3-9742-071eaf8f2abb.png -> /home/darth/MLAI-projects/yolo_conveyor/yolo_conveyor_belt/images/8f2abb.png\n",
      "Renamed: /home/darth/MLAI-projects/yolo_conveyor/yolo_conveyor_belt/images/images_original_video2-00011.png_4a30881b-a06a-4fae-8036-1b1864b94882.png -> /home/darth/MLAI-projects/yolo_conveyor/yolo_conveyor_belt/images/b94882.png\n",
      "Renamed: /home/darth/MLAI-projects/yolo_conveyor/yolo_conveyor_belt/images/video2-00004.png -> /home/darth/MLAI-projects/yolo_conveyor/yolo_conveyor_belt/images/-00004.png\n",
      "Renamed: /home/darth/MLAI-projects/yolo_conveyor/yolo_conveyor_belt/images/video2-00010.png -> /home/darth/MLAI-projects/yolo_conveyor/yolo_conveyor_belt/images/-00010.png\n",
      "Renamed: /home/darth/MLAI-projects/yolo_conveyor/yolo_conveyor_belt/images/images_original_video2-00014.png_917e0099-7fb1-45ba-ae90-aa5130a94a36.png -> /home/darth/MLAI-projects/yolo_conveyor/yolo_conveyor_belt/images/a94a36.png\n",
      "Renamed: /home/darth/MLAI-projects/yolo_conveyor/yolo_conveyor_belt/images/images_original_video2-00010.png_4e36f237-7562-46e9-9b6d-d56c15ef09a0.png -> /home/darth/MLAI-projects/yolo_conveyor/yolo_conveyor_belt/images/ef09a0.png\n",
      "Renamed: /home/darth/MLAI-projects/yolo_conveyor/yolo_conveyor_belt/images/video2-00001.png -> /home/darth/MLAI-projects/yolo_conveyor/yolo_conveyor_belt/images/-00001.png\n",
      "Renamed: /home/darth/MLAI-projects/yolo_conveyor/yolo_conveyor_belt/images/video2-00000.png -> /home/darth/MLAI-projects/yolo_conveyor/yolo_conveyor_belt/images/-00000.png\n",
      "Renamed: /home/darth/MLAI-projects/yolo_conveyor/yolo_conveyor_belt/images/video2-00012.png -> /home/darth/MLAI-projects/yolo_conveyor/yolo_conveyor_belt/images/-00012.png\n",
      "Renamed: /home/darth/MLAI-projects/yolo_conveyor/yolo_conveyor_belt/images/video2-00008.png -> /home/darth/MLAI-projects/yolo_conveyor/yolo_conveyor_belt/images/-00008.png\n",
      "Renamed: /home/darth/MLAI-projects/yolo_conveyor/yolo_conveyor_belt/images/video2-00014.png -> /home/darth/MLAI-projects/yolo_conveyor/yolo_conveyor_belt/images/-00014.png\n",
      "Renamed: /home/darth/MLAI-projects/yolo_conveyor/yolo_conveyor_belt/images/images_original_video2-00006.png_7b235504-bb94-4b46-a014-b7d4ddf274a3.png -> /home/darth/MLAI-projects/yolo_conveyor/yolo_conveyor_belt/images/f274a3.png\n",
      "Renamed: /home/darth/MLAI-projects/yolo_conveyor/yolo_conveyor_belt/images/video2-00002.png -> /home/darth/MLAI-projects/yolo_conveyor/yolo_conveyor_belt/images/-00002.png\n",
      "Renamed: /home/darth/MLAI-projects/yolo_conveyor/yolo_conveyor_belt/images/video2-00007.png -> /home/darth/MLAI-projects/yolo_conveyor/yolo_conveyor_belt/images/-00007.png\n",
      "Renamed: /home/darth/MLAI-projects/yolo_conveyor/yolo_conveyor_belt/images/images_original_video2-00006.png_af8fbcca-720c-46a0-811c-bde0b297e1fe.png -> /home/darth/MLAI-projects/yolo_conveyor/yolo_conveyor_belt/images/97e1fe.png\n",
      "Renamed: /home/darth/MLAI-projects/yolo_conveyor/yolo_conveyor_belt/images/video2-00009.png -> /home/darth/MLAI-projects/yolo_conveyor/yolo_conveyor_belt/images/-00009.png\n",
      "Renamed: /home/darth/MLAI-projects/yolo_conveyor/yolo_conveyor_belt/images/images_original_video2-00008.png_4d4ce3de-1a0d-45ac-b923-47529b3c5123.png -> /home/darth/MLAI-projects/yolo_conveyor/yolo_conveyor_belt/images/3c5123.png\n",
      "Renamed: /home/darth/MLAI-projects/yolo_conveyor/yolo_conveyor_belt/images/images_original_video2-00001.png_8afd6c15-2180-40b2-9b4c-eaeffde61feb.png -> /home/darth/MLAI-projects/yolo_conveyor/yolo_conveyor_belt/images/e61feb.png\n",
      "Renamed: /home/darth/MLAI-projects/yolo_conveyor/yolo_conveyor_belt/images/images_original_video2-00000.png_b7e6f5d8-52b1-4642-8458-b18d65fb0659.png -> /home/darth/MLAI-projects/yolo_conveyor/yolo_conveyor_belt/images/fb0659.png\n",
      "Renamed: /home/darth/MLAI-projects/yolo_conveyor/yolo_conveyor_belt/images/images_original_video2-00004.png_292bb0fd-53b7-458d-a860-37a56c723420.png -> /home/darth/MLAI-projects/yolo_conveyor/yolo_conveyor_belt/images/723420.png\n",
      "Renamed: /home/darth/MLAI-projects/yolo_conveyor/yolo_conveyor_belt/images/images_original_video2-00004.png_6740e14f-b58d-450a-90de-e66d139e9b0b.png -> /home/darth/MLAI-projects/yolo_conveyor/yolo_conveyor_belt/images/9e9b0b.png\n",
      "Renamed: /home/darth/MLAI-projects/yolo_conveyor/yolo_conveyor_belt/images/images_original_video2-00001.png_68e8d1c0-51a4-472a-b016-3cb236eb6161.png -> /home/darth/MLAI-projects/yolo_conveyor/yolo_conveyor_belt/images/eb6161.png\n",
      "Renamed: /home/darth/MLAI-projects/yolo_conveyor/yolo_conveyor_belt/images/video2-00003.png -> /home/darth/MLAI-projects/yolo_conveyor/yolo_conveyor_belt/images/-00003.png\n",
      "Renamed: /home/darth/MLAI-projects/yolo_conveyor/yolo_conveyor_belt/images/video2-00006.png -> /home/darth/MLAI-projects/yolo_conveyor/yolo_conveyor_belt/images/-00006.png\n",
      "Renamed: /home/darth/MLAI-projects/yolo_conveyor/yolo_conveyor_belt/images/images_original_video2-00001.png_cc7a2e7e-5148-4d1e-8b52-2818498f31a2.png -> /home/darth/MLAI-projects/yolo_conveyor/yolo_conveyor_belt/images/8f31a2.png\n"
     ]
    }
   ],
   "source": [
    "import os\n",
    "\n",
    "def shorten_image_names(directory):\n",
    "    for filename in os.listdir(directory):\n",
    "        if filename.endswith(\".png\"):\n",
    "            old_name = os.path.join(directory, filename)\n",
    "            new_name = os.path.join(directory, filename[-10:])\n",
    "            os.rename(old_name, new_name)\n",
    "            print(f\"Renamed: {old_name} -> {new_name}\")\n",
    "\n",
    "\n",
    "# Example usage\n",
    "directory = f\"{HOME}/images\"\n",
    "shorten_image_names(directory)\n"
   ]
  },
  {
   "cell_type": "code",
   "execution_count": null,
   "metadata": {},
   "outputs": [],
   "source": []
  }
 ],
 "metadata": {
  "kernelspec": {
   "display_name": "envyolo",
   "language": "python",
   "name": "python3"
  },
  "language_info": {
   "codemirror_mode": {
    "name": "ipython",
    "version": 3
   },
   "file_extension": ".py",
   "mimetype": "text/x-python",
   "name": "python",
   "nbconvert_exporter": "python",
   "pygments_lexer": "ipython3",
   "version": "3.10.6"
  },
  "orig_nbformat": 4
 },
 "nbformat": 4,
 "nbformat_minor": 2
}
